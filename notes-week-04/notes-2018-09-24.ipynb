{
 "cells": [
  {
   "cell_type": "markdown",
   "metadata": {},
   "source": [
    "# MATH 210 Intoduction to Mathematical Computing\n",
    "\n",
    "## September 24, 2018\n",
    "\n",
    "* Root Finding\n",
    "* Bisection Method\n",
    "* Error Formula\n",
    "* Examples\n",
    "* Exercises"
   ]
  },
  {
   "cell_type": "markdown",
   "metadata": {},
   "source": [
    "## Root Finding\n",
    "\n",
    "[Root finding](https://en.wikipedia.org/wiki/Root-finding_algorithm) refers to the general problem of searching for a solution of an equation $F(x)=0$ for some function $F(x)$. This is a very general problem and it comes up a lot in mathematics! For example, if we want to optimize a function $f(x)$ then we need to find critical points and therefore solve the equation $f'(x)=0$.\n",
    "\n",
    "There are few examples where there exist exact methods for finding solutions. For example, the [quadratic formula](https://en.wikipedia.org/wiki/Quadratic_formula)\n",
    "\n",
    "$$\n",
    "x = \\frac{-b \\pm \\sqrt{b^2 - 4ac}}{2a}\n",
    "$$\n",
    "\n",
    "gives us an exact method for finding roots of the equation\n",
    "\n",
    "$$\n",
    "ax^2 + bx + c = 0\n",
    "$$\n",
    "\n",
    "There is a [general formula to solve a cubic equation](https://en.wikipedia.org/wiki/Cubic_function#General_solution_to_the_cubic_equation_with_real_coefficients) and even a [quartic (degree 4) equation](https://en.wikipedia.org/wiki/Quartic_function) (but the formula is too complicated to be useful).\n",
    "\n",
    "But there does not exist a formula for a [quintic (degree 5) polynomial](https://en.wikipedia.org/wiki/Quintic_function). And there are *many* more examples of equations with no known method to solve them exactly.\n",
    "\n",
    "What can we do? Use numerical methods to find approximate solutions."
   ]
  },
  {
   "cell_type": "markdown",
   "metadata": {},
   "source": [
    "## Bisection Method\n",
    "\n",
    "The simplest root finding algorithm is the [bisection method](https://en.wikipedia.org/wiki/Bisection_method). The algorithm applies to any continuous function $f(x)$ on an interval $[a,b]$ where the value of the function $f(x)$ changes sign from $a$ to $b$.\n",
    "\n",
    "The bisection method procedure is:\n",
    "\n",
    "1. Choose a starting interval $[a_0,b_0]$ such that $f(a_0)f(b_0) < 0$.\n",
    "2. Compute $f(m_0)$ where $m_0 = (a_0+b_0)/2$ is the midpoint.\n",
    "3. Determine the next subinterval $[a_1,b_1]$:\n",
    "    1. If $f(a_0)f(m_0) < 0$, then let $[a_1,b_1]$ be the next interval with $a_1=a_0$ and $b_1=m_0$.\n",
    "    2. If $f(b_0)f(m_0) < 0$, then let $[a_1,b_1]$ be the next interval with $a_1=m_0$ and $b_1=b_0$.\n",
    "3. Repeat (2) and (3) until the interval $[a_N,b_N]$ reaches some predetermined length.\n",
    "4. Return the midpoint value $m_N=(a_N+b_N)/2$.\n",
    "\n",
    "A solution of the equation $f(x)=0$ in the interval $[a,b]$ is guaranteed by the [Intermediate Value Theorem](https://en.wikipedia.org/wiki/Intermediate_value_theorem) provided $f(x)$ is continuous on $[a,b]$ and $f(a)f(b) < 0$. In other words, the function changes sign over the interval and therefore must equal 0 at some point in the interval $[a,b]$."
   ]
  },
  {
   "cell_type": "markdown",
   "metadata": {},
   "source": [
    "## Absolute Error\n",
    "\n",
    "The bisection method does not (in general) produce an exact solution of an equation $f(x)=0$. However, we can give an estimate of the absolute error in the approxiation.\n",
    "\n",
    "**Theorem**. Let $f(x)$ be a continuous function on $[a,b]$ such that $f(a)f(b) < 0$. After $N$ iterations of the biection method, let $x_N$ be the midpoint in the $N$th subinterval $[a_N,b_N]$\n",
    "\n",
    "$$\n",
    "x_N = \\frac{a_N + b_N}{2}\n",
    "$$\n",
    "\n",
    "There exists an exact solution $x_{\\mathrm{true}}$ of the equation $f(x)=0$ in the subinterval $[a_N,b_N]$ and the absolute error is\n",
    "\n",
    "$$\n",
    "\\left| \\ x_{\\mathrm{true}} - x_N \\, \\right| \\leq \\frac{b-a}{2^{N+1}}\n",
    "$$"
   ]
  },
  {
   "cell_type": "markdown",
   "metadata": {},
   "source": [
    "Note that we can rearrange the error bound to see the minimum number of iterations required to guarantee absolute error less than a prescribed $\\epsilon$:\n",
    "\n",
    "\\begin{align*}\n",
    "\\frac{b-a}{2^{N+1}} & < \\epsilon \\\\\n",
    "\\frac{b-a}{\\epsilon} & < 2^{N+1} \\\\\n",
    "\\ln \\left( \\frac{b-a}{\\epsilon} \\right) & < (N+1)\\ln(2) \\\\\n",
    "\\frac{\\ln \\left( \\frac{b-a}{\\epsilon} \\right)}{\\ln(2)} - 1 & < N\n",
    "\\end{align*}"
   ]
  },
  {
   "cell_type": "markdown",
   "metadata": {},
   "source": [
    "## Implementation\n",
    "\n",
    "Write a function called `bisection` which takes 4 input parameters `f`, `a`, `b` and `N` and returns the approximation of a solution of $f(x)=0$ given by $N$ iterations of the bisection method. If $f(a_n)f(b_n) \\geq 0$ at any point in the iteration (caused either by a bad initial interval or rounding error in computations), then print `\"Bisection method fails.\"` and return `None`."
   ]
  },
  {
   "cell_type": "code",
   "execution_count": 1,
   "metadata": {},
   "outputs": [],
   "source": [
    "def bisection(f,a,b,N):\n",
    "    '''Approximate a solution of f(x)=0 on the interval [a,b] by the bisection method.\n",
    "    \n",
    "    Parameters\n",
    "    ----------\n",
    "    f : function\n",
    "        The function for which we are trying to approximate a solution f(x)=0.\n",
    "    a,b : numbers\n",
    "        The interval in which to search for a solution. The function returns None\n",
    "        if f(a)*f(b) >= 0 since a solution is not guaranteed.\n",
    "    N : (positive) integer\n",
    "        The number of iterations to implement.\n",
    "    \n",
    "    Returns\n",
    "    -------\n",
    "    x_N : number\n",
    "        The midpoint of the Nth interval computed by the bisection method. The initial\n",
    "        interval [a_0,b_0] is given by [a,b]. If f(m_n) == 0 for some midpoint\n",
    "        m_n = (a_n + b_n)/2, then the function returns this solution. If all signs of\n",
    "        values f(a_n), f(b_n) and f(m_n) are the same at any iterations, the bisection\n",
    "        method fails and return None.\n",
    "    \n",
    "    Examples\n",
    "    --------\n",
    "    >>> f = lambda x: x**2 - x - 1\n",
    "    >>> bisection(f,1,2,25)\n",
    "    1.618033990263939\n",
    "    >>> f = lambda x: (2*x - 1)*(x - 3)\n",
    "    >>> bisection(f,0,1,10)\n",
    "    0.5\n",
    "    '''\n",
    "    if f(a)*f(b) >= 0:\n",
    "        print(\"Bisection method fails.\")\n",
    "        return None\n",
    "    a_n = a\n",
    "    b_n = b\n",
    "    for n in range(1,N+1):\n",
    "        m_n = (a_n + b_n)/2\n",
    "        f_m_n = f(m_n)\n",
    "        if f(a_n)*f_m_n < 0:\n",
    "            a_n = a_n\n",
    "            b_n = m_n\n",
    "        elif f(b_n)*f_m_n < 0:\n",
    "            a_n = m_n\n",
    "            b_n = b_n\n",
    "        elif f_m_n == 0:\n",
    "            print(\"Found exact solution.\")\n",
    "            return m_n\n",
    "        else:\n",
    "            print(m_n)\n",
    "            print(\"Bisection method fails.\")\n",
    "            return None\n",
    "    return (a_n + b_n)/2"
   ]
  },
  {
   "cell_type": "markdown",
   "metadata": {},
   "source": [
    "Let's use our function with input parameters $f(x)=x^2 - x - 1$ and $N=25$ iterations on $[1,2]$ to approximate the [golden ratio](https://en.wikipedia.org/wiki/Golden_ratio)\n",
    "\n",
    "$$\n",
    "\\phi = \\frac{1 + \\sqrt{5}}{2}\n",
    "$$\n",
    "\n",
    "The golden ratio $\\phi$ is a root of the quadratic polynomial $x^2 - x - 1 = 0$."
   ]
  },
  {
   "cell_type": "code",
   "execution_count": 2,
   "metadata": {},
   "outputs": [
    {
     "name": "stdout",
     "output_type": "stream",
     "text": [
      "1.618033990263939\n"
     ]
    }
   ],
   "source": [
    "f = lambda x: x**2 - x - 1\n",
    "approx_phi = bisection(f,1,2,25)\n",
    "print(approx_phi)"
   ]
  },
  {
   "cell_type": "markdown",
   "metadata": {},
   "source": [
    "The absolute error is guaranteed to be less than $(2 - 1)/(2^{26})$ which is"
   ]
  },
  {
   "cell_type": "code",
   "execution_count": 3,
   "metadata": {},
   "outputs": [
    {
     "name": "stdout",
     "output_type": "stream",
     "text": [
      "1.4901161193847656e-08\n"
     ]
    }
   ],
   "source": [
    "error_bound = 2**(-26)\n",
    "print(error_bound)"
   ]
  },
  {
   "cell_type": "markdown",
   "metadata": {},
   "source": [
    "Let's verify the absolute error is then than this error bound:"
   ]
  },
  {
   "cell_type": "code",
   "execution_count": 4,
   "metadata": {},
   "outputs": [
    {
     "data": {
      "text/plain": [
       "True"
      ]
     },
     "execution_count": 4,
     "metadata": {},
     "output_type": "execute_result"
    }
   ],
   "source": [
    "abs( (1 + 5**0.5)/2 - approx_phi) < error_bound"
   ]
  },
  {
   "cell_type": "markdown",
   "metadata": {},
   "source": [
    "## Examples\n",
    "\n",
    "*Under construction*"
   ]
  },
  {
   "cell_type": "markdown",
   "metadata": {},
   "source": [
    "## Exercises\n",
    "\n",
    "*Under construction*"
   ]
  }
 ],
 "metadata": {
  "kernelspec": {
   "display_name": "Python 3",
   "language": "python",
   "name": "python3"
  },
  "language_info": {
   "codemirror_mode": {
    "name": "ipython",
    "version": 3
   },
   "file_extension": ".py",
   "mimetype": "text/x-python",
   "name": "python",
   "nbconvert_exporter": "python",
   "pygments_lexer": "ipython3",
   "version": "3.6.6"
  }
 },
 "nbformat": 4,
 "nbformat_minor": 2
}

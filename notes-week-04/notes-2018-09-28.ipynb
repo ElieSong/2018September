{
 "cells": [
  {
   "cell_type": "markdown",
   "metadata": {},
   "source": [
    "# MATH 210 Introduction to Mathematical Computing\n",
    "\n",
    "## September 28, 2018"
   ]
  },
  {
   "cell_type": "markdown",
   "metadata": {},
   "source": [
    "* Newton's Method"
   ]
  },
  {
   "cell_type": "markdown",
   "metadata": {},
   "source": [
    "## Newton's Method\n",
    "\n",
    "[Newton's method](https://en.wikipedia.org/wiki/Newton%27s_method) is another root finding method. When it converges, it usually converges quickly. But it's different from the bisection and secant methods. Those methods are guaranteed to converge to a solution when they start with an interval containing a root. Newton's method is not guaranteed to converge.\n",
    "\n",
    "The idea is to use the tangent to approxiamte $f(x)$ and find its $x$-intecept. If $x_n$ is the $n$th approximation in the implementation of Newton's method then\n",
    "\n",
    "$$\n",
    "x_{n+1} = x_n - \\frac{f(x_n)}{f'(x_n)}\n",
    "$$\n",
    "\n",
    "Note that the method fails if $f'(x_n)=0$ at any interation."
   ]
  },
  {
   "cell_type": "markdown",
   "metadata": {},
   "source": [
    "## Find Roots of a Quintic\n",
    "\n",
    "Write a function called `quintic` which takes 8 input parameters `a`, `b`, `c`, `d`, `e`, `x0`, `epsilon`, and `max_iter`. The function implements Newton's method to find a solution of\n",
    "\n",
    "$$\n",
    "p(x) = x^5 + ax^4 + bx^3 + cx^2 + dx + e\n",
    "$$\n",
    "\n",
    "given a starting value of `x0`.\n",
    "\n",
    "The function may terminate 3 ways:\n",
    "\n",
    "1. If `|p(x_n)| < epsilon`, then we have an approximate root and the function returns `x_n`.\n",
    "2. If `p'(x_n) = 0` at any point, the function prints `'Zero derivative. No solution found.'` and returns `None`.\n",
    "3. If the number of iterations exceeds `max_iter`, the function prints `'Exceeded maximum iterations. No solution found.'` and returns `None`."
   ]
  },
  {
   "cell_type": "code",
   "execution_count": 1,
   "metadata": {},
   "outputs": [],
   "source": [
    "def quintic(a,b,c,d,e,x0,epsilon,max_iter):\n",
    "    xn = x0\n",
    "    for n in range(0,max_iter):\n",
    "        fxn = xn**5 + a*xn**4 + b*xn**3 + c*xn**2 + d*xn + e\n",
    "        if abs(fxn) < epsilon:\n",
    "            return xn\n",
    "        Dfxn = 5*xn**4 + 4*a*xn**3 + 3*b*xn**2 + 2*c*xn + d\n",
    "        if Dfxn == 0:\n",
    "            print('Zero derivative. No root found.')\n",
    "            return None\n",
    "        xn = xn - fxn/Dfxn\n",
    "    return xn"
   ]
  },
  {
   "cell_type": "markdown",
   "metadata": {},
   "source": [
    "Let's write a test for our function. We know that $x=1$ is a root of $p(x)=x^5-1$."
   ]
  },
  {
   "cell_type": "code",
   "execution_count": 2,
   "metadata": {},
   "outputs": [
    {
     "name": "stdout",
     "output_type": "stream",
     "text": [
      "Success!\n"
     ]
    }
   ],
   "source": [
    "assert abs(quintic(0,0,0,0,-1,0.9,0.00001,10) - 1.0) < 10e-5\n",
    "print(\"Success!\")"
   ]
  },
  {
   "cell_type": "markdown",
   "metadata": {},
   "source": [
    "Let's find a root of $p(x)=x^5+x+1$. There's root between -1 and 1 and so let's guess $x_0=0$."
   ]
  },
  {
   "cell_type": "code",
   "execution_count": 3,
   "metadata": {},
   "outputs": [
    {
     "data": {
      "text/plain": [
       "-0.7548777017701278"
      ]
     },
     "execution_count": 3,
     "metadata": {},
     "output_type": "execute_result"
    }
   ],
   "source": [
    "quintic(0,0,0,1,1,0,0.00001,10)"
   ]
  }
 ],
 "metadata": {
  "kernelspec": {
   "display_name": "Python 3",
   "language": "python",
   "name": "python3"
  },
  "language_info": {
   "codemirror_mode": {
    "name": "ipython",
    "version": 3
   },
   "file_extension": ".py",
   "mimetype": "text/x-python",
   "name": "python",
   "nbconvert_exporter": "python",
   "pygments_lexer": "ipython3",
   "version": "3.6.6"
  }
 },
 "nbformat": 4,
 "nbformat_minor": 2
}

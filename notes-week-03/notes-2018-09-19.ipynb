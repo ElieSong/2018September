{
 "cells": [
  {
   "cell_type": "markdown",
   "metadata": {},
   "source": [
    "# MATH 210 Introduction to Mathematical Computing\n",
    "\n",
    "## September 19, 2018\n",
    "\n",
    "* Logic\n",
    "* Loops\n",
    "* Recursive Sequences"
   ]
  },
  {
   "cell_type": "markdown",
   "metadata": {},
   "source": [
    "## Logic\n",
    "\n",
    "Let's write an if statement to determine the type of roots of a quadratic polynomial $p(x) = ax^2 + bx + c$."
   ]
  },
  {
   "cell_type": "code",
   "execution_count": 1,
   "metadata": {},
   "outputs": [
    {
     "name": "stdout",
     "output_type": "stream",
     "text": [
      "Roots are real and repeated.\n"
     ]
    }
   ],
   "source": [
    "a = 1\n",
    "b = 2\n",
    "c = 1\n",
    "discriminant = b**2 - 4*a*c\n",
    "if discriminant > 0:\n",
    "    print('Roots are real and distinct.')\n",
    "elif discriminant < 0:\n",
    "    print('Roots are complex.')\n",
    "else:\n",
    "    print('Roots are real and repeated.')"
   ]
  },
  {
   "cell_type": "markdown",
   "metadata": {},
   "source": [
    "Note that we are not using the logical expression `discriminant == 0` in the `if` block. It's bad practice to compare equality fo floats. See [stackoverflow](https://stackoverflow.com/questions/7545015/can-someone-explain-this-0-2-0-1-0-30000000000000004)."
   ]
  },
  {
   "cell_type": "code",
   "execution_count": 2,
   "metadata": {},
   "outputs": [
    {
     "data": {
      "text/plain": [
       "False"
      ]
     },
     "execution_count": 2,
     "metadata": {},
     "output_type": "execute_result"
    }
   ],
   "source": [
    "0.1 + 0.2 == 0.3"
   ]
  },
  {
   "cell_type": "code",
   "execution_count": 3,
   "metadata": {},
   "outputs": [
    {
     "data": {
      "text/plain": [
       "0.30000000000000004"
      ]
     },
     "execution_count": 3,
     "metadata": {},
     "output_type": "execute_result"
    }
   ],
   "source": [
    "0.1 + 0.2"
   ]
  },
  {
   "cell_type": "markdown",
   "metadata": {},
   "source": [
    "## Invertible Matrix\n",
    "\n",
    "Write a function called `invertible` which takes 4 input parameters `a`, `b`,`c` and `d` representing a matrix\n",
    "\n",
    "$$\n",
    "\\begin{pmatrix}\n",
    "a & b \\\\\n",
    "c & d\n",
    "\\end{pmatrix}\n",
    "$$\n",
    "\n",
    "The function returns `True` is the matrix is invertible and `False` otherwise."
   ]
  },
  {
   "cell_type": "code",
   "execution_count": 4,
   "metadata": {},
   "outputs": [],
   "source": [
    "def invertible(a,b,c,d):\n",
    "    determinant = a*d - b*c\n",
    "    if determinant != 0:\n",
    "        return True\n",
    "    else:\n",
    "        return False"
   ]
  },
  {
   "cell_type": "code",
   "execution_count": 5,
   "metadata": {},
   "outputs": [
    {
     "data": {
      "text/plain": [
       "True"
      ]
     },
     "execution_count": 5,
     "metadata": {},
     "output_type": "execute_result"
    }
   ],
   "source": [
    "invertible(1,0,0,1)"
   ]
  },
  {
   "cell_type": "code",
   "execution_count": 6,
   "metadata": {},
   "outputs": [
    {
     "data": {
      "text/plain": [
       "False"
      ]
     },
     "execution_count": 6,
     "metadata": {},
     "output_type": "execute_result"
    }
   ],
   "source": [
    "invertible(1,1,1,1)"
   ]
  },
  {
   "cell_type": "markdown",
   "metadata": {},
   "source": [
    "## Loops\n",
    "\n",
    "A `for` loop allows us to execute a block of code repeatedly as a variable travels over a sequence. Let's do an example which creates a sequence of squares."
   ]
  },
  {
   "cell_type": "code",
   "execution_count": 7,
   "metadata": {},
   "outputs": [
    {
     "name": "stdout",
     "output_type": "stream",
     "text": [
      "Square of 0 is 0\n",
      "[0]\n",
      "Square of 1 is 1\n",
      "[0, 1]\n",
      "Square of 2 is 4\n",
      "[0, 1, 4]\n",
      "Square of 3 is 9\n",
      "[0, 1, 4, 9]\n",
      "Square of 4 is 16\n",
      "[0, 1, 4, 9, 16]\n",
      "Square of 5 is 25\n",
      "[0, 1, 4, 9, 16, 25]\n",
      "Square of 6 is 36\n",
      "[0, 1, 4, 9, 16, 25, 36]\n",
      "Square of 7 is 49\n",
      "[0, 1, 4, 9, 16, 25, 36, 49]\n",
      "Square of 8 is 64\n",
      "[0, 1, 4, 9, 16, 25, 36, 49, 64]\n",
      "Square of 9 is 81\n",
      "[0, 1, 4, 9, 16, 25, 36, 49, 64, 81]\n",
      "[0, 1, 4, 9, 16, 25, 36, 49, 64, 81]\n"
     ]
    }
   ],
   "source": [
    "squares = []\n",
    "for n in range(0,10):\n",
    "    square = n**2\n",
    "    squares.append(square)\n",
    "    print('Square of',n,'is',square)\n",
    "    print(squares)\n",
    "print(squares)"
   ]
  },
  {
   "cell_type": "markdown",
   "metadata": {},
   "source": [
    "Copy and paste the code above into the [Python Tutor Visualizer](http://www.pythontutor.com/) to see the iteration in action!\n",
    "\n",
    "The object over which the variable is iterating in a `for` loop can be *any* kind of sequence."
   ]
  },
  {
   "cell_type": "code",
   "execution_count": 8,
   "metadata": {},
   "outputs": [
    {
     "name": "stdout",
     "output_type": "stream",
     "text": [
      "Hey! 2\n",
      "Hey! -1\n",
      "Hey! 11\n",
      "Hey! 17\n",
      "Hey! 3.14159\n"
     ]
    }
   ],
   "source": [
    "for item in [2,-1,11,17,3.14159]:\n",
    "    print('Hey!',item)"
   ]
  },
  {
   "cell_type": "markdown",
   "metadata": {},
   "source": [
    "We can always use a list comprehension to create a sequence given a formula (with variable `n`, the index). For example, let $a_n = 1+n^2$."
   ]
  },
  {
   "cell_type": "code",
   "execution_count": 9,
   "metadata": {},
   "outputs": [
    {
     "name": "stdout",
     "output_type": "stream",
     "text": [
      "[1, 2, 5, 10, 17]\n"
     ]
    }
   ],
   "source": [
    "seq = [1+n**2 for n in range(0,5)]\n",
    "print(seq)"
   ]
  },
  {
   "cell_type": "markdown",
   "metadata": {},
   "source": [
    "We can also use a for loop."
   ]
  },
  {
   "cell_type": "code",
   "execution_count": 10,
   "metadata": {},
   "outputs": [
    {
     "name": "stdout",
     "output_type": "stream",
     "text": [
      "[1, 2, 5, 10, 17]\n"
     ]
    }
   ],
   "source": [
    "seq = []\n",
    "for n in range(0,5):\n",
    "    seq.append(1 + n**2)\n",
    "print(seq)"
   ]
  },
  {
   "cell_type": "markdown",
   "metadata": {},
   "source": [
    "However, we can't use a list comprehension for a [recursive sequence](https://en.wikipedia.org/wiki/Constant-recursive_sequence)."
   ]
  },
  {
   "cell_type": "markdown",
   "metadata": {},
   "source": [
    "## Recursive Sequences\n",
    "\n",
    "Write a function called `fibonacci` which takes one input parameter `N` and returns the Fibonacci sequence $[a_0,a_1,\\dots,a_N]$ up to $a_N$ where\n",
    "\n",
    "$$\n",
    "a_0=1 \\ , \\ \\ a_1=1 \\ , \\ \\ a_n=a_{n-1} + a_{n-2}\n",
    "$$"
   ]
  },
  {
   "cell_type": "code",
   "execution_count": 11,
   "metadata": {},
   "outputs": [],
   "source": [
    "def fibonacci(N):\n",
    "    seq = [1,1]\n",
    "    for n in range(2,N+1):\n",
    "        seq.append(seq[-1] + seq[-2])\n",
    "    return seq"
   ]
  },
  {
   "cell_type": "code",
   "execution_count": 12,
   "metadata": {},
   "outputs": [
    {
     "data": {
      "text/plain": [
       "[1, 1, 2, 3, 5, 8]"
      ]
     },
     "execution_count": 12,
     "metadata": {},
     "output_type": "execute_result"
    }
   ],
   "source": [
    "fibonacci(5)"
   ]
  },
  {
   "cell_type": "markdown",
   "metadata": {},
   "source": [
    "Let's use our function to approximate the limit\n",
    "\n",
    "$$\n",
    "\\lim_{n \\to \\infty} \\frac{a_{n+1}}{a_n} = L\n",
    "$$"
   ]
  },
  {
   "cell_type": "code",
   "execution_count": 13,
   "metadata": {},
   "outputs": [
    {
     "data": {
      "text/plain": [
       "1.618033988749895"
      ]
     },
     "execution_count": 13,
     "metadata": {},
     "output_type": "execute_result"
    }
   ],
   "source": [
    "N = 1000\n",
    "fibonacci(N)[-1] / fibonacci(N)[-2]"
   ]
  },
  {
   "cell_type": "markdown",
   "metadata": {},
   "source": [
    "Turns out the limit is the [golden ratio](https://en.wikipedia.org/wiki/Fibonacci_number#Limit_of_consecutive_quotients):"
   ]
  },
  {
   "cell_type": "code",
   "execution_count": 14,
   "metadata": {},
   "outputs": [
    {
     "data": {
      "text/plain": [
       "1.618033988749895"
      ]
     },
     "execution_count": 14,
     "metadata": {},
     "output_type": "execute_result"
    }
   ],
   "source": [
    "(1 + 5**0.5)/2"
   ]
  }
 ],
 "metadata": {
  "kernelspec": {
   "display_name": "Python 3",
   "language": "python",
   "name": "python3"
  },
  "language_info": {
   "codemirror_mode": {
    "name": "ipython",
    "version": 3
   },
   "file_extension": ".py",
   "mimetype": "text/x-python",
   "name": "python",
   "nbconvert_exporter": "python",
   "pygments_lexer": "ipython3",
   "version": "3.6.6"
  }
 },
 "nbformat": 4,
 "nbformat_minor": 2
}

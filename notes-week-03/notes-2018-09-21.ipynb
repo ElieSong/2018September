{
 "cells": [
  {
   "cell_type": "markdown",
   "metadata": {},
   "source": [
    "# MATH 210 Introduction to Mathematical Computing\n",
    "\n",
    "## September 21, 2018\n",
    "\n",
    "* While loops\n",
    "* Examples"
   ]
  },
  {
   "cell_type": "markdown",
   "metadata": {},
   "source": [
    "## while Loops\n",
    "\n",
    "A `for` loop executes a block of code a certain (finite) number of times as a variables is updated each time through the loop.\n",
    "\n",
    "A `while` loop executes a block of code each time a certain logical expression evaluates to `True`. If the expression is always `True`, then we get an [infinite loop](https://en.wikipedia.org/wiki/Infinite_loop)!\n",
    "\n",
    "In this class, we almost NEVER need a `while` loop. We can always use a `for` loop or at least re-phrase our problem so that a `for` loop will do.\n",
    "\n",
    "Basically, a `while` loop is used when the number of iterations is unknown, and otherwise we can always us a `for` loop."
   ]
  },
  {
   "cell_type": "code",
   "execution_count": 1,
   "metadata": {},
   "outputs": [
    {
     "name": "stdout",
     "output_type": "stream",
     "text": [
      "What's your name? Jia\n",
      "Hello,  Jia.\n",
      "What's your name? Miriam\n",
      "Hello,  Miriam.\n",
      "What's your name? Ali\n",
      "Hello,  Ali.\n",
      "What's your name? Patrick\n",
      "Hello,  Patrick.\n",
      "What's your name? LeBron\n",
      "Hello,  LeBron.\n",
      "I love you, LeBron!\n"
     ]
    }
   ],
   "source": [
    "name = ''\n",
    "while name != 'LeBron':\n",
    "    name = input(\"What's your name? \")\n",
    "    print('Hello, ',name + '.')\n",
    "print('I love you, LeBron!')"
   ]
  },
  {
   "cell_type": "markdown",
   "metadata": {},
   "source": [
    "## Collatz Conjecture\n",
    "\n",
    "Write a fucntion called `collatz` which takes a input parameter `a` (positive integer) and returns the [Collatz sequence](https://en.wikipedia.org/wiki/Collatz_conjecture) as a Python list starting at `a` and ending at `1`. The sequence is defined by the recursive formula:\n",
    "\n",
    "$$\n",
    "x_0 = a \\ \\ , \\ \\ x_{n+1} =\n",
    "\\left\\{ \\begin{array}{cl}\n",
    "\\frac{x_n}{2} & \\text{if } x_n \\text{ even} \\\\\n",
    "3x_n+1 & \\text{if } x_n \\text{ odd}\n",
    "\\end{array} \\right.\n",
    "$$"
   ]
  },
  {
   "cell_type": "markdown",
   "metadata": {},
   "source": [
    "We don't know how long the Collatz sequence is given a starting value $x_0 = a$. We have to use a `while` loop and trust in the Collatz conjecture which states that the sequence will always end at 1!"
   ]
  },
  {
   "cell_type": "code",
   "execution_count": 2,
   "metadata": {},
   "outputs": [],
   "source": [
    "def collatz(a):\n",
    "    seq = [a]\n",
    "    while seq[-1] > 1:\n",
    "        if seq[-1] % 2 == 0:\n",
    "            seq.append(seq[-1]//2)\n",
    "        else:\n",
    "            seq.append(3*seq[-1] + 1)\n",
    "    return seq"
   ]
  },
  {
   "cell_type": "code",
   "execution_count": 3,
   "metadata": {},
   "outputs": [
    {
     "data": {
      "text/plain": [
       "[10, 5, 16, 8, 4, 2, 1]"
      ]
     },
     "execution_count": 3,
     "metadata": {},
     "output_type": "execute_result"
    }
   ],
   "source": [
    "collatz(10)"
   ]
  },
  {
   "cell_type": "markdown",
   "metadata": {},
   "source": [
    "Now that our function is defined and working correctly, let's use it to answer some questions about the Collatz conjecture.\n",
    "\n",
    "What values $x_0 < 100$ generate a Collatz sequence of length greater than 100?"
   ]
  },
  {
   "cell_type": "code",
   "execution_count": 4,
   "metadata": {},
   "outputs": [
    {
     "name": "stdout",
     "output_type": "stream",
     "text": [
      "27 112\n",
      "31 107\n",
      "41 110\n",
      "47 105\n",
      "54 113\n",
      "55 113\n",
      "62 108\n",
      "63 108\n",
      "71 103\n",
      "73 116\n",
      "82 111\n",
      "83 111\n",
      "94 106\n",
      "95 106\n",
      "97 119\n"
     ]
    }
   ],
   "source": [
    "for n in range(1,100):\n",
    "    s = collatz(n)\n",
    "    if len(s) > 100:\n",
    "        print(n,len(s))"
   ]
  },
  {
   "cell_type": "markdown",
   "metadata": {},
   "source": [
    "What values $x_0 < 3000$ generate a Collatz sequence of length greater than 200?"
   ]
  },
  {
   "cell_type": "code",
   "execution_count": 6,
   "metadata": {},
   "outputs": [
    {
     "name": "stdout",
     "output_type": "stream",
     "text": [
      "2463 209\n",
      "2919 217\n"
     ]
    }
   ],
   "source": [
    "for n in range(1,3000):\n",
    "    s = collatz(n)\n",
    "    if len(s) > 200:\n",
    "        print(n,len(s))"
   ]
  },
  {
   "cell_type": "markdown",
   "metadata": {},
   "source": [
    "## Elliptic curves\n",
    "\n",
    "Let's do one more example involving iteration. Let's write a function which preforms trial and error in search of solutions of an equation.\n",
    "\n",
    "An (integral) [elliptic curve](https://en.wikipedia.org/wiki/Elliptic_curve) is an equation of the form $y^2 = x^3 + Ax + B$ where $A$ and $B$ are integers.\n",
    "\n",
    "Write a function called `elliptic` which takes 3 input parameters `A`, `B` and `xrange` where `A` and `B` are integers defining an elliptic curve and `xrange` is a list of length 2 defining an interval of `x` values. The function returns a Python list of tuples of integer solutions to the equation where `x` is in the interval given by `xrange`.\n",
    "\n",
    "For example, `elliptic(0,1,[0,5])` return `[(0,1),(0,-1),(2,3),(2,-3)]`."
   ]
  },
  {
   "cell_type": "code",
   "execution_count": 7,
   "metadata": {},
   "outputs": [],
   "source": [
    "def is_square(x):\n",
    "    if x < 0:\n",
    "        return False\n",
    "    else:\n",
    "        return int(x**0.5)**2 == x\n",
    "\n",
    "def elliptic(A,B,C,xrange):\n",
    "    solutions = []\n",
    "    for x in range(xrange[0],xrange[1]+1):\n",
    "        if is_square(x**3+1):\n",
    "            y = int((x**3+1)**0.5)\n",
    "            solutions.append((x,y))\n",
    "            solutions.append((x,-y))\n",
    "    return solutions"
   ]
  },
  {
   "cell_type": "code",
   "execution_count": 8,
   "metadata": {},
   "outputs": [
    {
     "data": {
      "text/plain": [
       "[(0, 1), (0, -1), (2, 3), (2, -3)]"
      ]
     },
     "execution_count": 8,
     "metadata": {},
     "output_type": "execute_result"
    }
   ],
   "source": [
    "elliptic(1,0,1,[0,5])"
   ]
  }
 ],
 "metadata": {
  "kernelspec": {
   "display_name": "Python 3",
   "language": "python",
   "name": "python3"
  },
  "language_info": {
   "codemirror_mode": {
    "name": "ipython",
    "version": 3
   },
   "file_extension": ".py",
   "mimetype": "text/x-python",
   "name": "python",
   "nbconvert_exporter": "python",
   "pygments_lexer": "ipython3",
   "version": "3.6.6"
  }
 },
 "nbformat": 4,
 "nbformat_minor": 2
}

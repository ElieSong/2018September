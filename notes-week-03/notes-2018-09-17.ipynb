{
 "cells": [
  {
   "cell_type": "markdown",
   "metadata": {},
   "source": [
    "# MATH 210 Introduction to Mathematical Computing\n",
    "\n",
    "## September 17, 2018\n",
    "\n",
    "* Functions\n",
    "* Doctrings\n",
    "* Logic"
   ]
  },
  {
   "cell_type": "markdown",
   "metadata": {},
   "source": [
    "## Functions\n",
    "\n",
    "Write a function called `zeta` which takes two input parameters `s` and `N` and returns the sum\n",
    "\n",
    "$$\n",
    "\\sum_{n = 1}^N \\frac{1}{n^s}\n",
    "$$\n",
    "\n",
    "This is the Nth partial sum of the [Riemann zeta function](https://en.wikipedia.org/wiki/Riemann_zeta_function)."
   ]
  },
  {
   "cell_type": "code",
   "execution_count": 1,
   "metadata": {},
   "outputs": [],
   "source": [
    "def zeta(s,N):\n",
    "    '''Compute the sum \\sum_{n=1}^N 1/n**s.'''\n",
    "    terms = [1/n**s for n in range(1,N+1)]\n",
    "    result = sum(terms)\n",
    "    return result"
   ]
  },
  {
   "cell_type": "markdown",
   "metadata": {},
   "source": [
    "Things to note about function definition syntax:\n",
    "1. `def` keyword begins the function definition.\n",
    "2. `zeta` is the function name.\n",
    "3. We list the input parameters in parentheses.\n",
    "4. End `def` statement with a colon `:`.\n",
    "5. Text on the next line after `def` statement is a docstring.\n",
    "6. The body of the function is indented 4 spaces.\n",
    "7. Output value is given by the return statement."
   ]
  },
  {
   "cell_type": "markdown",
   "metadata": {},
   "source": [
    "Test the function with input values where we know the output. For example,\n",
    "`zeta(1,1)` returns 1.0."
   ]
  },
  {
   "cell_type": "code",
   "execution_count": 2,
   "metadata": {},
   "outputs": [
    {
     "data": {
      "text/plain": [
       "1.0"
      ]
     },
     "execution_count": 2,
     "metadata": {},
     "output_type": "execute_result"
    }
   ],
   "source": [
    "zeta(1,1)"
   ]
  },
  {
   "cell_type": "markdown",
   "metadata": {},
   "source": [
    "Let's approximate the special value\n",
    "\n",
    "$$\n",
    "\\zeta(4) = \\frac{\\pi^4}{90}\n",
    "$$"
   ]
  },
  {
   "cell_type": "code",
   "execution_count": 3,
   "metadata": {},
   "outputs": [
    {
     "data": {
      "text/plain": [
       "1.082323233710861"
      ]
     },
     "execution_count": 3,
     "metadata": {},
     "output_type": "execute_result"
    }
   ],
   "source": [
    "zeta(4,10000)"
   ]
  },
  {
   "cell_type": "code",
   "execution_count": 4,
   "metadata": {},
   "outputs": [
    {
     "data": {
      "text/plain": [
       "1.082319576918468"
      ]
     },
     "execution_count": 4,
     "metadata": {},
     "output_type": "execute_result"
    }
   ],
   "source": [
    "3.14159**4/90"
   ]
  },
  {
   "cell_type": "markdown",
   "metadata": {},
   "source": [
    "## Documentation Strings\n",
    "\n",
    "A [documentation string](https://www.python.org/dev/peps/pep-0257/) (or docstring) is a string of text which directly follows the `def` statement in a function definition. The docstring explains what the function does. In Jupyter, we can use the question mark to view the docstring."
   ]
  },
  {
   "cell_type": "code",
   "execution_count": 5,
   "metadata": {},
   "outputs": [],
   "source": [
    "sum?"
   ]
  },
  {
   "cell_type": "code",
   "execution_count": 6,
   "metadata": {},
   "outputs": [],
   "source": [
    "zeta?"
   ]
  },
  {
   "cell_type": "markdown",
   "metadata": {},
   "source": [
    "There are different conventions for writing documentation strings. We follow these conventions:\n",
    "\n",
    "1. If the function is simple, then a single descriptive line suffices. For example, our function `zeta` we defined above.\n",
    "2. If the function is more complicated, then we follow the [NumPy template](https://sphinxcontrib-napoleon.readthedocs.io/en/latest/example_numpy.html):\n",
    "\n",
    "```\n",
    "def function_name(param1,param2,param3):\n",
    "    '''A first line which gives a general description.\n",
    "    \n",
    "    A longer paragraph describing the function, what it\n",
    "    does, what algorithms it uses, special behaviour, etc.\n",
    "    \n",
    "    Parameters\n",
    "    ----------\n",
    "    param1 : datatype\n",
    "        A description of the parameter param1\n",
    "    param2 : datatype\n",
    "        A description of the parameter param2\n",
    "    param3 : datatype\n",
    "        A description of the parameter param3 which\n",
    "        may be a bit longer and so it goes on several\n",
    "        lines.\n",
    "       \n",
    "    Returns\n",
    "    -------\n",
    "    datatype(s)\n",
    "        A description of the output values, special\n",
    "        cases, and general usage.\n",
    "    \n",
    "    Examples\n",
    "    --------\n",
    "    >>> function_name(1.0,2.0,3.0)\n",
    "    6.0\n",
    "    '''\n",
    "    # code goes here\n",
    "    # code goes here\n",
    "```"
   ]
  },
  {
   "cell_type": "markdown",
   "metadata": {},
   "source": [
    "For example, let's look at the documentation string for a function in the NumPy package. Let's look at `numpy.linspace`."
   ]
  },
  {
   "cell_type": "code",
   "execution_count": 7,
   "metadata": {},
   "outputs": [],
   "source": [
    "import numpy as np"
   ]
  },
  {
   "cell_type": "code",
   "execution_count": 8,
   "metadata": {},
   "outputs": [],
   "source": [
    "np.linspace?"
   ]
  },
  {
   "cell_type": "markdown",
   "metadata": {},
   "source": [
    "## Logic"
   ]
  },
  {
   "cell_type": "markdown",
   "metadata": {},
   "source": [
    "We can execute some blocks of code and not others by using `if` statements. For example, let's write an `if` statement to determine if a polynomial has real distinct, real repeated or complex roots."
   ]
  },
  {
   "cell_type": "code",
   "execution_count": 9,
   "metadata": {},
   "outputs": [
    {
     "name": "stdout",
     "output_type": "stream",
     "text": [
      "Roots are real and repeated.\n",
      "Done!\n"
     ]
    }
   ],
   "source": [
    "# p(x) = ax^2 + bx + c\n",
    "a = 1\n",
    "b = 2\n",
    "c = 1\n",
    "# quadratic formula\n",
    "# x = (-b \\pm \\sqrt{b^2 - 4ac})/(2a)\n",
    "discriminant = b**2 - 4*a*c\n",
    "if discriminant > 0:\n",
    "    print('Roots are real and distinct.')\n",
    "elif discriminant < 0:\n",
    "    print('Roots are complex.')\n",
    "else:\n",
    "    print('Roots are real and repeated.')\n",
    "print('Done!')"
   ]
  }
 ],
 "metadata": {
  "kernelspec": {
   "display_name": "Python 3",
   "language": "python",
   "name": "python3"
  },
  "language_info": {
   "codemirror_mode": {
    "name": "ipython",
    "version": 3
   },
   "file_extension": ".py",
   "mimetype": "text/x-python",
   "name": "python",
   "nbconvert_exporter": "python",
   "pygments_lexer": "ipython3",
   "version": "3.6.6"
  }
 },
 "nbformat": 4,
 "nbformat_minor": 2
}

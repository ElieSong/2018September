{
 "cells": [
  {
   "cell_type": "markdown",
   "metadata": {},
   "source": [
    "# MATH 210 Introduction to Mathematical Computing\n",
    "\n",
    "## September 14, 2018\n",
    "\n",
    "* Series\n",
    "* Functions"
   ]
  },
  {
   "cell_type": "markdown",
   "metadata": {},
   "source": [
    "## Series\n",
    "\n",
    "Using pure Python (ie. not importing any packages), we can compute series by constructing sequences as Python lists using list comprehensions and then apply the built-in function `sum`."
   ]
  },
  {
   "cell_type": "markdown",
   "metadata": {},
   "source": [
    "Let's compute the partial sum of the Taylor series for `arctan(x)`:\n",
    "\n",
    "$$\n",
    "\\arctan(x) \\approx \\sum_{n=0}^{N} \\frac{(-1)^n}{2n+1} x^{2n+1}\n",
    "$$"
   ]
  },
  {
   "cell_type": "code",
   "execution_count": 1,
   "metadata": {},
   "outputs": [
    {
     "name": "stdout",
     "output_type": "stream",
     "text": [
      "[0.5773502691896258, -0.06415002990995844, 0.012830005981991695]\n",
      "[0.0, -0.0, 0.0]\n"
     ]
    },
    {
     "data": {
      "text/plain": [
       "0.5235987755982989"
      ]
     },
     "execution_count": 1,
     "metadata": {},
     "output_type": "execute_result"
    }
   ],
   "source": [
    "N = 1000\n",
    "x = 1/3**0.5\n",
    "terms = [(-1)**n/(2*n + 1)*x**(2*n + 1) for n in range(0,N+1)]\n",
    "print(terms[:3]) # Look at the first 3 terms\n",
    "print(terms[-3:]) # Look at the last 3 terms\n",
    "sum(terms)"
   ]
  },
  {
   "cell_type": "markdown",
   "metadata": {},
   "source": [
    "Let's compare the exact value\n",
    "\n",
    "$$\n",
    "\\arctan\\left( 1/\\sqrt{3} \\right) = \\frac{\\pi}{6}\n",
    "$$"
   ]
  },
  {
   "cell_type": "code",
   "execution_count": 2,
   "metadata": {},
   "outputs": [
    {
     "data": {
      "text/plain": [
       "0.5235983333333333"
      ]
     },
     "execution_count": 2,
     "metadata": {},
     "output_type": "execute_result"
    }
   ],
   "source": [
    "3.14159/6"
   ]
  },
  {
   "cell_type": "markdown",
   "metadata": {},
   "source": [
    "We can change the values of $x$ and $N$ to compute different values of the partial sum but we'll lose our previous work by re-exectuing the same code with different values. We could copy and paste to a new cell but then changing the code in one cell doesn't change code in the previous cell. What we really need is a function which allows us to re-use code with different inputs."
   ]
  },
  {
   "cell_type": "markdown",
   "metadata": {},
   "source": [
    "## Functions\n",
    "\n",
    "We can define our own functions which take input parameters, do computations and return an output value. This allows us to re-use code over and over with different input values.\n",
    "\n",
    "Let's write a function called `arctan_taylor` which takes 2 input parameters `x` and `N` and returns the partial sum\n",
    "\n",
    "$$\n",
    "\\sum_{n=0}^{N} \\frac{(-1)^n}{2n+1} x^{2n+1}\n",
    "$$\n",
    "\n",
    "which is the degree $2N+1$ Taylor polynomial of $\\arctan(x)$."
   ]
  },
  {
   "cell_type": "code",
   "execution_count": 3,
   "metadata": {},
   "outputs": [],
   "source": [
    "def arctan_taylor(x,N):\n",
    "    terms = [(-1)**n/(2*n + 1)*x**(2*n + 1) for n in range(0,N+1)]\n",
    "    result = sum(terms)\n",
    "    return result"
   ]
  },
  {
   "cell_type": "markdown",
   "metadata": {},
   "source": [
    "Now we can compute the partial sum for many input values."
   ]
  },
  {
   "cell_type": "code",
   "execution_count": 4,
   "metadata": {},
   "outputs": [
    {
     "data": {
      "text/plain": [
       "0.5235987755982989"
      ]
     },
     "execution_count": 4,
     "metadata": {},
     "output_type": "execute_result"
    }
   ],
   "source": [
    "arctan_taylor(1/3**0.5,1000)"
   ]
  },
  {
   "cell_type": "code",
   "execution_count": 5,
   "metadata": {},
   "outputs": [
    {
     "data": {
      "text/plain": [
       "0.7856479135848861"
      ]
     },
     "execution_count": 5,
     "metadata": {},
     "output_type": "execute_result"
    }
   ],
   "source": [
    "arctan_taylor(1,1000)"
   ]
  },
  {
   "cell_type": "markdown",
   "metadata": {},
   "source": [
    "Compare this to the exact value\n",
    "\n",
    "$$\n",
    "\\arctan(1) = \\frac{\\pi}{4}\n",
    "$$"
   ]
  },
  {
   "cell_type": "code",
   "execution_count": 6,
   "metadata": {},
   "outputs": [
    {
     "data": {
      "text/plain": [
       "0.7853975"
      ]
     },
     "execution_count": 6,
     "metadata": {},
     "output_type": "execute_result"
    }
   ],
   "source": [
    "3.14159/4"
   ]
  },
  {
   "cell_type": "markdown",
   "metadata": {},
   "source": [
    "Things to note:\n",
    "* function definition begins with the `def` keyword\n",
    "* `def` is followed by the function name (use `lower_case_with_underscores` naming convention)\n",
    "* list input parameters with descriptive names\n",
    "* end `def` statement with a colon `:`\n",
    "* the body of the function is indented 4 spaces\n",
    "* `return` gives the output value"
   ]
  }
 ],
 "metadata": {
  "kernelspec": {
   "display_name": "Python 3",
   "language": "python",
   "name": "python3"
  },
  "language_info": {
   "codemirror_mode": {
    "name": "ipython",
    "version": 3
   },
   "file_extension": ".py",
   "mimetype": "text/x-python",
   "name": "python",
   "nbconvert_exporter": "python",
   "pygments_lexer": "ipython3",
   "version": "3.6.6"
  }
 },
 "nbformat": 4,
 "nbformat_minor": 2
}
